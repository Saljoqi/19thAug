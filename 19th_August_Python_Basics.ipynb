{
 "cells": [
  {
   "cell_type": "markdown",
   "id": "b01128c3-0c9d-491d-94a4-d2383718f3de",
   "metadata": {},
   "source": [
    "PYTHON BASIC VARIABLES"
   ]
  },
  {
   "cell_type": "markdown",
   "id": "188bc4a2-f912-4b39-b183-c536a257076e",
   "metadata": {},
   "source": [
    "QUESTION 1 \"SWAPPING ALGORITHM\""
   ]
  },
  {
   "cell_type": "code",
   "execution_count": 1,
   "id": "5a8a84f6-a743-4d48-ab4f-4ee3891cc94d",
   "metadata": {},
   "outputs": [
    {
     "name": "stdin",
     "output_type": "stream",
     "text": [
      "Enter 'x' value :  100\n",
      "Enter 'y' value :  180\n"
     ]
    },
    {
     "name": "stdout",
     "output_type": "stream",
     "text": [
      "x :  180\n",
      "y :  100\n"
     ]
    }
   ],
   "source": [
    "x = int(input(\"Enter 'x' value : \"))\n",
    "y = int(input(\"Enter 'y' value : \"))\n",
    "x = x + y\n",
    "y = x - y\n",
    "x = x - y\n",
    "print(\"x : \", x)\n",
    "print(\"y : \", y)"
   ]
  },
  {
   "cell_type": "markdown",
   "id": "e56af6b7-f4f9-4cfe-bb01-e39fa576f1c2",
   "metadata": {},
   "source": [
    "QUESTION 2 \"AREA OF RECTANGLE ALGORITHM\""
   ]
  },
  {
   "cell_type": "code",
   "execution_count": 2,
   "id": "60365219-e692-428a-9627-dacba92ec879",
   "metadata": {},
   "outputs": [
    {
     "name": "stdin",
     "output_type": "stream",
     "text": [
      "Enter length of rectangle :  20\n",
      "Enter width of rectangle :  10\n"
     ]
    },
    {
     "name": "stdout",
     "output_type": "stream",
     "text": [
      "Area of rectangle is :  200.0\n"
     ]
    }
   ],
   "source": [
    "length_of_rectangle = float(input(\"Enter length of rectangle : \"))\n",
    "width_of_rectangle = float(input(\"Enter width of rectangle : \"))\n",
    "# As we know that Area of rectangle = length * Width\n",
    "area_of_rectangle = length_of_rectangle * width_of_rectangle\n",
    "print(\"Area of rectangle is : \", area_of_rectangle)"
   ]
  },
  {
   "cell_type": "markdown",
   "id": "68b11205-1658-4bc1-bbfe-e0417277f82d",
   "metadata": {},
   "source": [
    "QUESTION 3 \"PROGRAM THAT CONVERTS TEMPERATURE FROM CELSIUS TO FAHRENHEIT\""
   ]
  },
  {
   "cell_type": "code",
   "execution_count": 3,
   "id": "a2080bf2-b490-4d8f-80fe-47b2b1cbbe97",
   "metadata": {},
   "outputs": [
    {
     "name": "stdin",
     "output_type": "stream",
     "text": [
      "Enter temperature in celsius :  32\n"
     ]
    },
    {
     "name": "stdout",
     "output_type": "stream",
     "text": [
      "Temperature in fahrenheit is :  89.6 F\n"
     ]
    }
   ],
   "source": [
    "temperature_in_celsius = float(input(\"Enter temperature in celsius : \"))\n",
    "# Formula to convert temperature from celsius to fahrenheit is (temperature_in_celsius*(9/5)) + 32\n",
    "temperature_in_fahrenheit = (temperature_in_celsius*(9/5)) + 32\n",
    "print(\"Temperature in fahrenheit is : \", temperature_in_fahrenheit,\"F\")"
   ]
  },
  {
   "cell_type": "markdown",
   "id": "3d259e16-16e0-4665-89e4-75a86acc4b69",
   "metadata": {},
   "source": [
    "STRING BASED QUESTIONS"
   ]
  },
  {
   "cell_type": "markdown",
   "id": "8c1889a6-c904-46ea-9204-d37d03887d1f",
   "metadata": {},
   "source": [
    "QUESTION 1 \"PROGRAM THAT FINDS LENGTH OF STRING\""
   ]
  },
  {
   "cell_type": "code",
   "execution_count": 4,
   "id": "88def324-2ead-42a0-ad60-973078722454",
   "metadata": {},
   "outputs": [
    {
     "name": "stdin",
     "output_type": "stream",
     "text": [
      "Enter string data :  Aflah\n"
     ]
    },
    {
     "name": "stdout",
     "output_type": "stream",
     "text": [
      "Length of string is :  5\n"
     ]
    }
   ],
   "source": [
    "string = input(\"Enter string data : \")\n",
    "print(\"Length of string is : \" , len(string))\n",
    "# len() is a built_in function and used to find the spaces accupied by string characters"
   ]
  },
  {
   "cell_type": "markdown",
   "id": "5ee8d22e-6254-420f-a7dc-fc7f2fb4211d",
   "metadata": {},
   "source": [
    "QUESTION 2 \"PROGRAM THAT COUNTS NUMBER OF VOWELS\""
   ]
  },
  {
   "cell_type": "code",
   "execution_count": 5,
   "id": "449aef2d-6ade-4062-a571-43844aa7b584",
   "metadata": {},
   "outputs": [
    {
     "name": "stdin",
     "output_type": "stream",
     "text": [
      "Enter string data :  aeiou and iuytr\n"
     ]
    },
    {
     "name": "stdout",
     "output_type": "stream",
     "text": [
      "Number of vowels in sentence are :  8\n"
     ]
    }
   ],
   "source": [
    "sentence = input(\"Enter string data : \")\n",
    "count = 0\n",
    "for i in sentence:\n",
    "    if i=='A' or i=='a' or i=='e' or i=='E' or i=='i' or i=='I' or i=='o' or i=='O' or i=='u' or i=='U':\n",
    "        count = count + 1\n",
    "print(\"Number of vowels in sentence are : \" , count)"
   ]
  },
  {
   "cell_type": "markdown",
   "id": "c3ee4576-1a0b-488b-88ce-14a607c03d5e",
   "metadata": {},
   "source": [
    "QUESTION 3 \"PROGRAM THAT REVERSE THE ORDER OF CHARACTERS IN A STRING\""
   ]
  },
  {
   "cell_type": "code",
   "execution_count": 6,
   "id": "cbb6453e-05d3-4db0-a05e-0e0de4741a61",
   "metadata": {},
   "outputs": [
    {
     "name": "stdin",
     "output_type": "stream",
     "text": [
      "Enter string data :  i am student of full stack data science pro\n"
     ]
    },
    {
     "name": "stdout",
     "output_type": "stream",
     "text": [
      "Reversed String is :  orp ecneics atad kcats lluf fo tneduts ma i\n"
     ]
    }
   ],
   "source": [
    "string_data = input(\"Enter string data : \")\n",
    "reverse_string = string_data[::-1]\n",
    "# [ : : -1 ] is used to reverse the whole string\n",
    "print(\"Reversed String is : \" , reverse_string)"
   ]
  },
  {
   "cell_type": "markdown",
   "id": "54618042-01b3-4a84-9a58-1af99e546ee5",
   "metadata": {},
   "source": [
    "QUESTION 4 \"PROGRAM THAT CHECKS WHETHER THE STRING IS PALINDROME OR NOT\""
   ]
  },
  {
   "cell_type": "code",
   "execution_count": 12,
   "id": "52e92099-329e-4d9d-a4bb-bd9b734e4788",
   "metadata": {},
   "outputs": [
    {
     "name": "stdin",
     "output_type": "stream",
     "text": [
      "Enter string :  Civic\n"
     ]
    },
    {
     "name": "stdout",
     "output_type": "stream",
     "text": [
      "String   ' Civic '  is a Palindrome\n"
     ]
    }
   ],
   "source": [
    "string_input= input(\"Enter string : \")\n",
    "i=0\n",
    "j=-1\n",
    "b= True\n",
    "new_string = string_input.lower()\n",
    "while(i <len(string_input)):\n",
    "    if new_string[i] != new_string[j]:\n",
    "        b= False\n",
    "        break\n",
    "    i=i+1\n",
    "    j=j-1\n",
    "\n",
    "if b==True:\n",
    "    print(\"String  \", \"'\" ,string_input, \"'\" ,\" is a Palindrome\")\n",
    "else:\n",
    "    print(\"String \",string_input,\" is NOT A Palindrome\")"
   ]
  },
  {
   "cell_type": "markdown",
   "id": "8be765ea-0409-49d6-8a7e-ec351bcbadee",
   "metadata": {},
   "source": [
    "QUESTION 5 \"PROGRAM THAT REMOVES ALL SPACES FROM THE INPUT STRING\""
   ]
  },
  {
   "cell_type": "code",
   "execution_count": 14,
   "id": "f57797e9-85c8-4f42-b824-0dac78027f30",
   "metadata": {},
   "outputs": [
    {
     "name": "stdin",
     "output_type": "stream",
     "text": [
      "Enter string data :  i am student of DS\n"
     ]
    },
    {
     "name": "stdout",
     "output_type": "stream",
     "text": [
      "String without Spaces is :  iamstudentofDS\n"
     ]
    }
   ],
   "source": [
    "string_variable = input(\"Enter string data : \")\n",
    "new_string = \"\"\n",
    "for i in string_variable:\n",
    "    if i.isspace()==False:\n",
    "        # .isspace is a built_in method whict checks whether the character is space or not\n",
    "        new_string= new_string + i\n",
    "print(\"String without Spaces is : \", new_string)"
   ]
  },
  {
   "cell_type": "code",
   "execution_count": null,
   "id": "8ee17731-1e05-46c2-8407-7c8c01e9a1b9",
   "metadata": {},
   "outputs": [],
   "source": []
  }
 ],
 "metadata": {
  "kernelspec": {
   "display_name": "Python 3 (ipykernel)",
   "language": "python",
   "name": "python3"
  },
  "language_info": {
   "codemirror_mode": {
    "name": "ipython",
    "version": 3
   },
   "file_extension": ".py",
   "mimetype": "text/x-python",
   "name": "python",
   "nbconvert_exporter": "python",
   "pygments_lexer": "ipython3",
   "version": "3.10.8"
  }
 },
 "nbformat": 4,
 "nbformat_minor": 5
}
